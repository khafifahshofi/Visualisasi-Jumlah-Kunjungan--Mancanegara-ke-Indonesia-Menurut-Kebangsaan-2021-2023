{
  "nbformat": 4,
  "nbformat_minor": 0,
  "metadata": {
    "colab": {
      "provenance": [],
      "authorship_tag": "ABX9TyN2F6xO8h7if+gQHdHn//Xe",
      "include_colab_link": true
    },
    "kernelspec": {
      "name": "python3",
      "display_name": "Python 3"
    },
    "language_info": {
      "name": "python"
    }
  },
  "cells": [
    {
      "cell_type": "markdown",
      "metadata": {
        "id": "view-in-github",
        "colab_type": "text"
      },
      "source": [
        "<a href=\"https://colab.research.google.com/github/khafifahshofi/Visualisasi-Jumlah-Kunjungan--Mancanegara-ke-Indonesia-Menurut-Kebangsaan-2021-2023/blob/main/UTS_PDAB_2304220023.ipynb\" target=\"_parent\"><img src=\"https://colab.research.google.com/assets/colab-badge.svg\" alt=\"Open In Colab\"/></a>"
      ]
    },
    {
      "cell_type": "markdown",
      "source": [
        "dataset : Titanic\n",
        "1. Eksplorasi Awal\n",
        "      \n",
        "      a. Berapa jumlah total penumpang dalam data?\n",
        "      \n",
        "      b. Berapa jumlah penumpang yang selamat? Tampilkan dalam bentuk tabel dan grafik!\n",
        "\n",
        "      c. Berapa rata-rata umur penumpang? Dan siapa penumpang termudan dan tertua\n",
        "      \n",
        "      d. Berapa jumlah penumpang berdasarkan jenis kelamin? Siapa yang lebih banyak? Visualisasikan\n",
        "      \n",
        "      e. Tampilkan jumlah penumpang berdasarkan kelas(Pclass) dan berapa persen dari total data yang berada di kelas 1? Visualisasikan"
      ],
      "metadata": {
        "id": "DnXBhq-T6LdW"
      }
    },
    {
      "cell_type": "code",
      "source": [
        "import pandas as pd\n",
        "import matplotlib.pyplot as plt\n",
        "import seaborn as sns\n",
        "\n",
        "# Load dataset Titanic\n",
        "df = pd.read_csv(\"/content/Titanic-Dataset.csv\")  # Ganti path jika perlu\n",
        "\n",
        "# a. Jumlah total penumpang\n",
        "total_penumpang = len(df)\n",
        "print(\"a. Jumlah total penumpang dalam data:\", total_penumpang)\n",
        "\n",
        "\n"
      ],
      "metadata": {
        "colab": {
          "base_uri": "https://localhost:8080/"
        },
        "id": "3i6K-x2J8CQ9",
        "outputId": "2fe94d45-cc21-4ae5-c4d1-b56bff4761f9"
      },
      "execution_count": 6,
      "outputs": [
        {
          "output_type": "stream",
          "name": "stdout",
          "text": [
            "a. Jumlah total penumpang dalam data: 891\n"
          ]
        }
      ]
    },
    {
      "cell_type": "code",
      "source": [
        "# b. Jumlah penumpang yang selamat dan tidak selamat\n",
        "tabel_selamat = df['Survived'].value_counts().rename(index={0: 'Tidak Selamat', 1: 'Selamat'}).reset_index()\n",
        "tabel_selamat.columns = ['Status', 'Jumlah']\n",
        "\n",
        "print(\"\\nb. Jumlah penumpang berdasarkan status keselamatan:\")\n",
        "print(tabel_selamat.to_string(index=False))"
      ],
      "metadata": {
        "colab": {
          "base_uri": "https://localhost:8080/"
        },
        "id": "oNtccKoKBlPv",
        "outputId": "4ec761ed-c4fa-4b14-9c78-0e96e8f4179e"
      },
      "execution_count": 7,
      "outputs": [
        {
          "output_type": "stream",
          "name": "stdout",
          "text": [
            "\n",
            "b. Jumlah penumpang berdasarkan status keselamatan:\n",
            "       Status  Jumlah\n",
            "Tidak Selamat     549\n",
            "      Selamat     342\n"
          ]
        }
      ]
    },
    {
      "cell_type": "code",
      "source": [
        "# c. Rata-rata umur penumpang\n",
        "rata_rata_umur = df['Age'].mean()\n",
        "penumpang_termuda = df['Age'].min()\n",
        "penumpang_tertua = df['Age'].max()\n",
        "\n",
        "print(\"c. Rata-rata umur penumpang:\", round(rata_rata_umur, 2))\n",
        "print(\"   Penumpang termuda:\", penumpang_termuda)\n",
        "print(\"   Penumpang tertua:\", penumpang_tertua)\n"
      ],
      "metadata": {
        "colab": {
          "base_uri": "https://localhost:8080/"
        },
        "id": "7BoZoRBIBp7J",
        "outputId": "e4c34f3a-4525-42e9-99f4-68b744807581"
      },
      "execution_count": 8,
      "outputs": [
        {
          "output_type": "stream",
          "name": "stdout",
          "text": [
            "c. Rata-rata umur penumpang: 29.7\n",
            "   Penumpang termuda: 0.42\n",
            "   Penumpang tertua: 80.0\n"
          ]
        }
      ]
    },
    {
      "cell_type": "code",
      "source": [
        "# d. Jumlah penumpang berdasarkan jenis kelamin\n",
        "tabel_gender = df['Sex'].value_counts().reset_index()\n",
        "tabel_gender.columns = ['Jenis Kelamin', 'Jumlah']\n",
        "\n",
        "print(\"\\nd. Jumlah penumpang berdasarkan jenis kelamin:\")\n",
        "print(tabel_gender.to_string(index=False))\n",
        "\n",
        "# Siapa yang lebih banyak?\n",
        "lebih_banyak = tabel_gender.loc[tabel_gender['Jumlah'].idxmax(), 'Jenis Kelamin']\n",
        "print(\"   Jenis kelamin yang lebih banyak:\", lebih_banyak)\n",
        "\n",
        "# Visualisasi\n",
        "sns.barplot(data=tabel_gender, x='Jenis Kelamin', y='Jumlah', hue='Jenis Kelamin', palette='Set2', legend=False)\n",
        "plt.title('Jumlah Penumpang Berdasarkan Jenis Kelamin')\n",
        "plt.xlabel('Jenis Kelamin')\n",
        "plt.ylabel('Jumlah Penumpang')\n",
        "plt.tight_layout()\n",
        "plt.show()\n"
      ],
      "metadata": {
        "colab": {
          "base_uri": "https://localhost:8080/",
          "height": 591
        },
        "id": "rvOS4wBGBmVp",
        "outputId": "a99f1d18-56d5-4b51-b52c-626fc5b0a510"
      },
      "execution_count": 9,
      "outputs": [
        {
          "output_type": "stream",
          "name": "stdout",
          "text": [
            "\n",
            "d. Jumlah penumpang berdasarkan jenis kelamin:\n",
            "Jenis Kelamin  Jumlah\n",
            "         male     577\n",
            "       female     314\n",
            "   Jenis kelamin yang lebih banyak: male\n"
          ]
        },
        {
          "output_type": "display_data",
          "data": {
            "text/plain": [
              "<Figure size 640x480 with 1 Axes>"
            ],
            "image/png": "[encoded data removed]"
          },
          "metadata": {}
        }
      ]
    },
    {
      "cell_type": "code",
      "source": [
        "# e. Jumlah penumpang berdasarkan kelas\n",
        "tabel_kelas = df['Pclass'].value_counts().sort_index().reset_index()\n",
        "tabel_kelas.columns = ['Kelas', 'Jumlah']\n",
        "\n",
        "# Hitung persentase kelas 1\n",
        "jumlah_kelas_1 = df[df['Pclass'] == 1].shape[0]\n",
        "persen_kelas_1 = (jumlah_kelas_1 / len(df)) * 100\n",
        "\n",
        "print(\"\\ne. Jumlah penumpang berdasarkan kelas:\")\n",
        "print(tabel_kelas.to_string(index=False))\n",
        "print(f\"   Persentase penumpang di kelas 1: {persen_kelas_1:.2f}%\")\n",
        "\n",
        "# Visualisasi\n",
        "sns.barplot(data=tabel_kelas, x='Kelas', y='Jumlah', hue='Kelas', palette='Set1', legend=False)\n",
        "plt.title('Jumlah Penumpang Berdasarkan Kelas')\n",
        "plt.xlabel('Kelas')\n",
        "plt.ylabel('Jumlah Penumpang')\n",
        "plt.tight_layout()\n",
        "plt.show()\n"
      ],
      "metadata": {
        "colab": {
          "base_uri": "https://localhost:8080/",
          "height": 609
        },
        "id": "yNOFaVKEBtxc",
        "outputId": "256d90a1-056e-407c-e7e3-bb15c441f4ed"
      },
      "execution_count": 10,
      "outputs": [
        {
          "output_type": "stream",
          "name": "stdout",
          "text": [
            "\n",
            "e. Jumlah penumpang berdasarkan kelas:\n",
            " Kelas  Jumlah\n",
            "     1     216\n",
            "     2     184\n",
            "     3     491\n",
            "   Persentase penumpang di kelas 1: 24.24%\n"
          ]
        },
        {
          "output_type": "display_data",
          "data": {
            "text/plain": [
              "<Figure size 640x480 with 1 Axes>"
            ],
            "image/png": "[encoded data removed]"
          },
          "metadata": {}
        }
      ]
    },
    {
      "cell_type": "markdown",
      "source": [
        "2. Preprocessing\n",
        "\n",
        " a. Apakah terdapa missing value pada data?\n",
        "\n",
        " b. Jika ya, apa yang anda lakukan?\n",
        "\n",
        " c. Apakah terdapat outlier pad data tersebut? Jelaskan apa itu outlier!\n",
        "\n",
        " d. Apakah outlier pada data tersebut perlu diatasi serta bagaimana cara mengatasinya?\n",
        "\n",
        " e. Jika dibutuhkan silakan lakukan"
      ],
      "metadata": {
        "id": "OBJHhuGb-3eN"
      }
    },
    {
      "cell_type": "code",
      "source": [
        "import pandas as pd\n",
        "import numpy as np\n",
        "import seaborn as sns\n",
        "import matplotlib.pyplot as plt\n",
        "from sklearn.preprocessing import StandardScaler\n",
        "from scipy import stats\n",
        "\n",
        "# Load dataset Titanic dari file CSV lokal\n",
        "df = pd.read_csv(\"Titanic-Dataset.csv\")\n",
        "\n",
        "# 2a. Memeriksa Missing Values\n",
        "print(\"Missing values in each column:\\n\", df.isnull().sum())\n"
      ],
      "metadata": {
        "colab": {
          "base_uri": "https://localhost:8080/"
        },
        "id": "HVdWS0JYCW5R",
        "outputId": "058b36de-1864-448e-a767-8f555ad449d8"
      },
      "execution_count": 11,
      "outputs": [
        {
          "output_type": "stream",
          "name": "stdout",
          "text": [
            "Missing values in each column:\n",
            " PassengerId      0\n",
            "Survived         0\n",
            "Pclass           0\n",
            "Name             0\n",
            "Sex              0\n",
            "Age            177\n",
            "SibSp            0\n",
            "Parch            0\n",
            "Ticket           0\n",
            "Fare             0\n",
            "Cabin          687\n",
            "Embarked         2\n",
            "dtype: int64\n"
          ]
        }
      ]
    },
    {
      "cell_type": "code",
      "source": [
        "# 2b. Menangani Missing Values\n",
        "# Mengganti missing values pada kolom 'Age' dengan median\n",
        "df['Age'] = df['Age'].fillna(df['Age'].median())\n",
        "\n",
        "# Mengganti missing values pada kolom 'Embarked' dengan modus\n",
        "df['Embarked'] = df['Embarked'].fillna(df['Embarked'].mode()[0])\n",
        "\n",
        "# Menghapus baris dengan missing values pada 'Cabin' (banyak missing values)\n",
        "df.drop(columns=['Cabin'], inplace=True)\n",
        "\n",
        "# Memeriksa missing values setelah penanganan\n",
        "print(\"\\nMissing values after handling:\\n\", df.isnull().sum())\n",
        "\n",
        "# Cek beberapa baris pertama setelah penanganan missing values\n",
        "print(\"\\nSample data after handling missing values:\\n\", df.head())"
      ],
      "metadata": {
        "colab": {
          "base_uri": "https://localhost:8080/"
        },
        "id": "xGRsy8e-DAj0",
        "outputId": "9a6329e9-ddb0-4f9e-d7f2-66667b7ad059"
      },
      "execution_count": 12,
      "outputs": [
        {
          "output_type": "stream",
          "name": "stdout",
          "text": [
            "\n",
            "Missing values after handling:\n",
            " PassengerId    0\n",
            "Survived       0\n",
            "Pclass         0\n",
            "Name           0\n",
            "Sex            0\n",
            "Age            0\n",
            "SibSp          0\n",
            "Parch          0\n",
            "Ticket         0\n",
            "Fare           0\n",
            "Embarked       0\n",
            "dtype: int64\n",
            "\n",
            "Sample data after handling missing values:\n",
            "    PassengerId  Survived  Pclass  \\\n",
            "0            1         0       3   \n",
            "1            2         1       1   \n",
            "2            3         1       3   \n",
            "3            4         1       1   \n",
            "4            5         0       3   \n",
            "\n",
            "                                                Name     Sex   Age  SibSp  \\\n",
            "0                            Braund, Mr. Owen Harris    male  22.0      1   \n",
            "1  Cumings, Mrs. John Bradley (Florence Briggs Th...  female  38.0      1   \n",
            "2                             Heikkinen, Miss. Laina  female  26.0      0   \n",
            "3       Futrelle, Mrs. Jacques Heath (Lily May Peel)  female  35.0      1   \n",
            "4                           Allen, Mr. William Henry    male  35.0      0   \n",
            "\n",
            "   Parch            Ticket     Fare Embarked  \n",
            "0      0         A/5 21171   7.2500        S  \n",
            "1      0          PC 17599  71.2833        C  \n",
            "2      0  STON/O2. 3101282   7.9250        S  \n",
            "3      0            113803  53.1000        S  \n",
            "4      0            373450   8.0500        S  \n"
          ]
        }
      ]
    },
    {
      "cell_type": "markdown",
      "source": [
        "Penjelasan :\n",
        "- Mengganti missing values pada kolom 'Age' dengan median\n",
        "- Mengganti missing values pada kolom 'Embarked' dengan modus\n",
        "- Menghapus baris dengan missing values pada 'Cabin' (banyak missing values)\n",
        "- Memeriksa missing values setelah penanganan"
      ],
      "metadata": {
        "id": "s-26SnjCKqE4"
      }
    },
    {
      "cell_type": "code",
      "source": [
        "# 2c. Memeriksa Outliers\n",
        "# Menggunakan boxplot untuk visualisasi outlier pada kolom 'Fare'\n",
        "sns.boxplot(x=df['Fare'])\n",
        "plt.show()\n",
        "\n",
        "# Menghitung IQR untuk kolom 'Fare' (atau kolom lain yang relevan)\n",
        "Q1 = df['Fare'].quantile(0.25)\n",
        "Q3 = df['Fare'].quantile(0.75)\n",
        "IQR = Q3 - Q1\n",
        "lower_bound = Q1 - 1.5 * IQR\n",
        "upper_bound = Q3 + 1.5 * IQR\n",
        "\n",
        "print(f\"Outliers for 'Fare': Lower bound = {lower_bound}, Upper bound = {upper_bound}\")\n"
      ],
      "metadata": {
        "colab": {
          "base_uri": "https://localhost:8080/",
          "height": 466
        },
        "id": "S3jtl6NyD7Oh",
        "outputId": "7511ec8c-c109-481c-fbfb-73e7ae9059d6"
      },
      "execution_count": 13,
      "outputs": [
        {
          "output_type": "display_data",
          "data": {
            "text/plain": [
              "<Figure size 640x480 with 1 Axes>"
            ],
            "image/png": "[encoded data removed]"
          },
          "metadata": {}
        },
        {
          "output_type": "stream",
          "name": "stdout",
          "text": [
            "Outliers for 'Fare': Lower bound = -26.724, Upper bound = 65.6344\n"
          ]
        }
      ]
    },
    {
      "cell_type": "markdown",
      "source": [
        "Penjelasan : Berdasarkan hasil perhitungan menggunakan metode Interquartile Range (IQR), diperoleh bahwa batas bawah (lower bound) nilai wajar untuk variabel Fare adalah sebesar -26,724, dan batas atas (upper bound) adalah sebesar 65,6344. Karena nilai Fare tidak mungkin bernilai negatif, maka batas bawah tidak relevan secara praktis. Namun, terdapat sejumlah data yang memiliki nilai Fare lebih besar dari 65,6344, yang secara statistik dikategorikan sebagai outlier.\n",
        "\n",
        "Outlier adalah observasi dalam data yang memiliki nilai ekstrem, baik jauh lebih kecil maupun jauh lebih besar dibandingkan dengan nilai-nilai lainnya, sehingga dapat memengaruhi analisis statistik secara signifikan.\n",
        "\n"
      ],
      "metadata": {
        "id": "zOWCXPa-KG0r"
      }
    },
    {
      "cell_type": "code",
      "source": [
        "# 2d. Menangani outlier\n",
        "# Simpan jumlah data sebelum outlier dihapus\n",
        "original_rows = df.shape[0]\n",
        "\n",
        "# Hapus outlier pada kolom 'Fare'\n",
        "df = df[(df['Fare'] >= lower_bound) & (df['Fare'] <= upper_bound)]\n",
        "\n",
        "# Tampilkan hasil\n",
        "print(f\"Jumlah data sebelum outlier dihapus: {original_rows}\")\n",
        "print(f\"Jumlah data setelah outlier dihapus: {df.shape[0]}\")\n",
        "print(f\"Jumlah baris yang dihapus (outlier): {original_rows - df.shape[0]}\")\n",
        "\n"
      ],
      "metadata": {
        "colab": {
          "base_uri": "https://localhost:8080/"
        },
        "id": "_9vB6Df_KTbo",
        "outputId": "b01679c9-35ae-4075-e42e-fb06ef886813"
      },
      "execution_count": 14,
      "outputs": [
        {
          "output_type": "stream",
          "name": "stdout",
          "text": [
            "Jumlah data sebelum outlier dihapus: 891\n",
            "Jumlah data setelah outlier dihapus: 775\n",
            "Jumlah baris yang dihapus (outlier): 116\n"
          ]
        }
      ]
    },
    {
      "cell_type": "markdown",
      "source": [
        "Penjelasan : karena dapat menyebabkan bias lebih baik ditangani saja dengan cara di hapus."
      ],
      "metadata": {
        "id": "mf3DYprIQGUo"
      }
    },
    {
      "cell_type": "code",
      "source": [
        "# 2e. Standarisasi / Scaling\n",
        "# Jika dibutuhkan, kita bisa men-standarisasi kolom numerik seperti 'Age' dan 'Fare'\n",
        "scaler = StandardScaler()\n",
        "df[['Age', 'Fare']] = scaler.fit_transform(df[['Age', 'Fare']])\n",
        "\n",
        "# Cek hasil transformasi\n",
        "print(\"\\nSample data after preprocessing:\\n\", df.head())"
      ],
      "metadata": {
        "colab": {
          "base_uri": "https://localhost:8080/"
        },
        "id": "_2qus7coQte4",
        "outputId": "53a12daf-3043-4ebf-c70b-ac504a6393c7"
      },
      "execution_count": 15,
      "outputs": [
        {
          "output_type": "stream",
          "name": "stdout",
          "text": [
            "\n",
            "Sample data after preprocessing:\n",
            "    PassengerId  Survived  Pclass  \\\n",
            "0            1         0       3   \n",
            "2            3         1       3   \n",
            "3            4         1       1   \n",
            "4            5         0       3   \n",
            "5            6         0       3   \n",
            "\n",
            "                                           Name     Sex       Age  SibSp  \\\n",
            "0                       Braund, Mr. Owen Harris    male -0.528321      1   \n",
            "2                        Heikkinen, Miss. Laina  female -0.215182      0   \n",
            "3  Futrelle, Mrs. Jacques Heath (Lily May Peel)  female  0.489381      1   \n",
            "4                      Allen, Mr. William Henry    male  0.489381      0   \n",
            "5                              Moran, Mr. James    male -0.058613      0   \n",
            "\n",
            "   Parch            Ticket      Fare Embarked  \n",
            "0      0         A/5 21171 -0.779117        S  \n",
            "2      0  STON/O2. 3101282 -0.729373        S  \n",
            "3      0            113803  2.599828        S  \n",
            "4      0            373450 -0.720161        S  \n",
            "5      0            330877 -0.690071        Q  \n"
          ]
        }
      ]
    },
    {
      "cell_type": "markdown",
      "source": [
        "3. Modelling\n",
        "\n",
        "  a. Jelaskan proses pembagian data menjadi data training dan testing dan alasan mengapa perlu membagi data tersebut\n",
        "  \n",
        "  b. Berapa persen pembagiannya? Mengapa memilih membagi dengan proporsi tersebut?\n",
        "  \n",
        "  c. Buatlah model klasifikasi dari 3 algoritma yang berbeda. Jelaskan masing-masing odel dan cara kerjanya\n",
        "  \n",
        "  d. Berapa nilai evaluasi dari masing-masing model pada data uji? Apa arti dari masing-masing  metrik evaluasi tersebut!\n",
        "  \n",
        "  e. Bandingkan hasil dari ketiga algoritma tersebut, mana yang paling bagus? Berikan ulasan kira-kira apa yang menyebabkan metode tersebut dapat memprediksi dataset anda dengan baik"
      ],
      "metadata": {
        "id": "APycFK9eQ92N"
      }
    },
    {
      "cell_type": "markdown",
      "source": [
        "3a. Pembagian data menjadi training dan testing penting agar kita bisa :\n",
        "\n",
        "- Melatih model pada data yang dikenal (training)\n",
        "- Mengukur performa pada data baru yang tidak dikenal (testing) Ini mencegah model overfitting (terlalu hafal data) dan menguji kemampuan generalisasi."
      ],
      "metadata": {
        "id": "GqLZ3ZXdWIR6"
      }
    },
    {
      "cell_type": "code",
      "source": [
        "#PROSES PEMBAGIAN DATA MENJADI TRAINING DAN TESTING\n",
        "from sklearn.model_selection import train_test_split\n",
        "\n",
        "# Misalnya kita pakai fitur sederhana: Pclass, Sex, Age, Fare\n",
        "# Ubah kolom 'Sex' ke numerik dulu\n",
        "df['Sex'] = df['Sex'].map({'male': 0, 'female': 1})\n",
        "\n",
        "# Pilih fitur dan target\n",
        "X = df[['Pclass', 'Sex', 'Age', 'Fare']]\n",
        "y = df['Survived']\n",
        "\n",
        "# Bagi data ke training dan testing\n",
        "X_train, X_test, y_train, y_test = train_test_split(X, y, test_size=0.2, random_state=42)\n",
        "print(f\"Jumlah data training: {X_train.shape[0]}\")\n",
        "print(f\"Jumlah data testing: {X_test.shape[0]}\")\n"
      ],
      "metadata": {
        "colab": {
          "base_uri": "https://localhost:8080/"
        },
        "id": "iwiu3hR8TNfq",
        "outputId": "997667d4-b197-49cc-a80f-5eed738193de"
      },
      "execution_count": 18,
      "outputs": [
        {
          "output_type": "stream",
          "name": "stdout",
          "text": [
            "Jumlah data training: 620\n",
            "Jumlah data testing: 155\n"
          ]
        }
      ]
    },
    {
      "cell_type": "markdown",
      "source": [
        "3.b Kita gunakan 80% training dan 20% testing\n",
        "  \n",
        "  Alasannya : 80% cukup banyak untuk melatih model dan 20% cukup untuk menguji performa model secara adil. Ini adalah praktik umum (standar industri)\n",
        "\n"
      ],
      "metadata": {
        "id": "TcjYLPx9YKDW"
      }
    },
    {
      "cell_type": "code",
      "source": [
        "# 3.c buat tiga Model Klasifikasi\n",
        "# Hapus kolom yang tidak diperlukan jika ada\n",
        "cols_to_drop = ['Survived', 'Name', 'Ticket']\n",
        "# Cek apakah kolom 'Cabin' ada sebelum menghapusnya\n",
        "if 'Cabin' in df.columns:\n",
        "    cols_to_drop.append('Cabin')\n",
        "\n",
        "# Pisahkan fitur (X) dan target (y)\n",
        "X = df.drop(columns=cols_to_drop, axis=1)\n",
        "y = df['Survived']\n",
        "\n",
        "# Convert 'Embarked' and 'Sex' to numerical using one-hot encoding\n",
        "X = pd.get_dummies(X, columns=['Embarked', 'Sex'], drop_first=True) # Convert categorical features to numerical\n",
        "\n",
        "# Split data menjadi training dan testing\n",
        "from sklearn.model_selection import train_test_split\n",
        "X_train, X_test, y_train, y_test = train_test_split(X, y, test_size=0.2, random_state=42)\n",
        "\n",
        "# 1. Logistic Regression\n",
        "from sklearn.linear_model import LogisticRegression\n",
        "logreg = LogisticRegression(max_iter=1000)\n",
        "logreg.fit(X_train, y_train)\n",
        "logreg_pred = logreg.predict(X_test)\n",
        "\n",
        "# 2. K-Nearest Neighbors (KNN)\n",
        "from sklearn.neighbors import KNeighborsClassifier\n",
        "knn = KNeighborsClassifier(n_neighbors=5)\n",
        "knn.fit(X_train, y_train)\n",
        "knn_pred = knn.predict(X_test)\n",
        "\n",
        "# 3. Random Forest\n",
        "from sklearn.ensemble import RandomForestClassifier\n",
        "rf = RandomForestClassifier(random_state=42)\n",
        "rf.fit(X_train, y_train)\n",
        "rf_pred = rf.predict(X_test)\n",
        "\n",
        "# Evaluasi hasil model\n",
        "from sklearn.metrics import accuracy_score\n",
        "print(\"Logistic Regression Accuracy:\", accuracy_score(y_test, logreg_pred))\n",
        "print(\"KNN Accuracy:\", accuracy_score(y_test, knn_pred))\n",
        "print(\"Random Forest Accuracy:\", accuracy_score(y_test, rf_pred))"
      ],
      "metadata": {
        "colab": {
          "base_uri": "https://localhost:8080/"
        },
        "id": "eTGpYx5OWPX1",
        "outputId": "76daf9de-8ab6-4b56-adab-0009c3fbd8d0"
      },
      "execution_count": 21,
      "outputs": [
        {
          "output_type": "stream",
          "name": "stdout",
          "text": [
            "Logistic Regression Accuracy: 0.6774193548387096\n",
            "KNN Accuracy: 0.535483870967742\n",
            "Random Forest Accuracy: 0.6645161290322581\n"
          ]
        }
      ]
    },
    {
      "cell_type": "markdown",
      "source": [
        "Penjelasan :\n",
        "\n",
        "### 1. **Logistic Regression**\n",
        "   - **Cara Kerja**: Menggunakan fungsi logistik untuk memetakan hasil linear menjadi probabilitas kelas target.\n",
        "   - **Kelebihan**: Mudah dipahami, cocok untuk hubungan linier antara fitur dan target.\n",
        "   - **Kelemahan**: Tidak cocok untuk data yang sangat kompleks.\n",
        "\n",
        "### 2. **K-Nearest Neighbors (KNN)**\n",
        "   - **Cara Kerja**: Mengklasifikasikan data berdasarkan kedekatannya dengan data lain, memilih kelas mayoritas dari k tetangga terdekat.\n",
        "   - **Kelebihan**: Sederhana dan mudah dipahami.\n",
        "   - **Kelemahan**: Mahal secara komputasi pada data besar, sangat bergantung pada pemilihan k.\n",
        "\n",
        "### 3. **Random Forest**\n",
        "   - **Cara Kerja**: Menggunakan banyak pohon keputusan untuk membuat prediksi, dan menggabungkan hasilnya untuk meningkatkan akurasi.\n",
        "   - **Kelebihan**: Kuat dalam menangani data kompleks dan banyak fitur, mengurangi risiko overfitting.\n",
        "   - **Kelemahan**: Lebih sulit diinterpretasi, lebih lambat untuk prediksi.\n",
        "\n",
        "### Kesimpulan:\n",
        "- **Logistic Regression**: Bagus untuk data linier.\n",
        "- **KNN**: Bagus untuk data kecil atau tidak linier.\n",
        "- **Random Forest**: Bagus untuk data kompleks dan besar."
      ],
      "metadata": {
        "id": "iKrPrPribPGf"
      }
    },
    {
      "cell_type": "code",
      "source": [
        "# 3.d nilai evaluasi\n",
        "from sklearn.metrics import classification_report, accuracy_score\n",
        "\n",
        "# Prediksi untuk masing-masing model\n",
        "y_pred_logreg = logreg.predict(X_test)\n",
        "y_pred_knn = knn.predict(X_test)\n",
        "y_pred_rf = rf.predict(X_test)\n",
        "\n",
        "# Evaluasi Logistic Regression\n",
        "print(\"Logistic Regression\")\n",
        "print(classification_report(y_test, y_pred_logreg))\n",
        "print(\"Akurasi:\", accuracy_score(y_test, y_pred_logreg))\n",
        "print(\"=\"*50)\n",
        "\n",
        "# Evaluasi KNN\n",
        "print(\"K-Nearest Neighbors\")\n",
        "print(classification_report(y_test, y_pred_knn))\n",
        "print(\"Akurasi:\", accuracy_score(y_test, y_pred_knn))\n",
        "print(\"=\"*50)\n",
        "\n",
        "# Evaluasi Random Forest\n",
        "print(\"Random Forest\")\n",
        "print(classification_report(y_test, y_pred_rf))\n",
        "print(\"Akurasi:\", accuracy_score(y_test, y_pred_rf))\n",
        "print(\"=\"*50)\n"
      ],
      "metadata": {
        "colab": {
          "base_uri": "https://localhost:8080/"
        },
        "id": "KOilp3O6Zwc4",
        "outputId": "1c092a97-1015-4eb5-a9ee-3df7ea1aca65"
      },
      "execution_count": 23,
      "outputs": [
        {
          "output_type": "stream",
          "name": "stdout",
          "text": [
            "Logistic Regression\n",
            "              precision    recall  f1-score   support\n",
            "\n",
            "           0       0.68      0.88      0.77        95\n",
            "           1       0.66      0.35      0.46        60\n",
            "\n",
            "    accuracy                           0.68       155\n",
            "   macro avg       0.67      0.62      0.61       155\n",
            "weighted avg       0.67      0.68      0.65       155\n",
            "\n",
            "Akurasi: 0.6774193548387096\n",
            "==================================================\n",
            "K-Nearest Neighbors\n",
            "              precision    recall  f1-score   support\n",
            "\n",
            "           0       0.59      0.78      0.67        95\n",
            "           1       0.30      0.15      0.20        60\n",
            "\n",
            "    accuracy                           0.54       155\n",
            "   macro avg       0.45      0.46      0.44       155\n",
            "weighted avg       0.48      0.54      0.49       155\n",
            "\n",
            "Akurasi: 0.535483870967742\n",
            "==================================================\n",
            "Random Forest\n",
            "              precision    recall  f1-score   support\n",
            "\n",
            "           0       0.69      0.83      0.75        95\n",
            "           1       0.60      0.40      0.48        60\n",
            "\n",
            "    accuracy                           0.66       155\n",
            "   macro avg       0.64      0.62      0.62       155\n",
            "weighted avg       0.65      0.66      0.65       155\n",
            "\n",
            "Akurasi: 0.6645161290322581\n",
            "==================================================\n"
          ]
        }
      ]
    },
    {
      "cell_type": "markdown",
      "source": [
        "Penjelasan:\n",
        "- Accuracy: Berapa banyak prediksi yang benar dari seluruh data uji.\n",
        "\n",
        "- Precision: Ketepatan dalam memprediksi penumpang yang selamat (positif).\n",
        "\n",
        "- Recall: Seberapa banyak penumpang yang selamat berhasil ditemukan oleh model.\n",
        "\n",
        "- F1-score: Rata-rata harmonik dari precision dan recall.\n",
        "\n"
      ],
      "metadata": {
        "id": "n1FFBP2ycBpQ"
      }
    },
    {
      "cell_type": "markdown",
      "source": [
        "3.e\n",
        "\n",
        "**Perbandingan dan Analisis:**\n",
        "- Logistic Regression memiliki akurasinya paling tinggi (0.68) dan recall terbaik untuk kelas 0, tetapi kurang baik dalam mengidentifikasi kelas 1. Mungkin hal ini terjadi karena ketidakseimbangan data (lebih banyak penumpang yang tidak selamat daripada yang selamat).\n",
        "\n",
        "- KNN memiliki akurasi terendah (0.54) dan recall sangat rendah untuk kelas 1. KNN sangat sensitif terhadap pemilihan nilai k dan lebih terpengaruh oleh data yang tidak seimbang.\n",
        "\n",
        "- Random Forest memiliki akurasi yang cukup baik (0.66) dan recall yang baik untuk kelas 0, tetapi kurang bagus untuk kelas 1. Random Forest lebih dapat diandalkan daripada KNN karena menggunakan banyak pohon keputusan untuk meningkatkan akurasi dan mengurangi overfitting.\n",
        "\n",
        "**Kesimpulan:**\n",
        "- Logistic Regression adalah model yang paling baik dari ketiganya dalam hal akurasi, namun kurang dalam mendeteksi kelas 1.\n",
        "\n",
        "- Random Forest dapat menjadi pilihan yang lebih baik daripada KNN, karena lebih stabil meskipun recall untuk kelas 1 masih perlu ditingkatkan."
      ],
      "metadata": {
        "id": "iMfbVL8NcUbH"
      }
    },
    {
      "cell_type": "markdown",
      "source": [
        "4. Evaluasi\n",
        "\n",
        "  a. Berdasarkan classificationreport model terbaik, berapa nilai precision dan recall untuk prediksi penumpang yang \"selamat\"?\n",
        "  \n",
        "  b. Berapa banyak penumpang yang diprediksi selamat, dan berapa di antaranya benar-benar selamat?"
      ],
      "metadata": {
        "id": "oFPJ3o5c3iTA"
      }
    },
    {
      "cell_type": "code",
      "source": [
        "from sklearn.metrics import classification_report, confusion_matrix\n",
        "\n",
        "# Misalnya kita pilih Logistic Regression sebagai model terbaik\n",
        "y_pred = logreg.predict(X_test)\n",
        "\n",
        "# a. Classification report\n",
        "report = classification_report(y_test, y_pred, output_dict=True)\n",
        "precision_selamat = report['1']['precision']\n",
        "recall_selamat = report['1']['recall']\n",
        "\n",
        "print(f\"Precision untuk penumpang selamat (1): {precision_selamat:.2f}\")\n",
        "print(f\"Recall untuk penumpang selamat (1): {recall_selamat:.2f}\")"
      ],
      "metadata": {
        "colab": {
          "base_uri": "https://localhost:8080/"
        },
        "id": "ByOVpaQG3gA9",
        "outputId": "1db3127f-974f-4062-ddf9-3a77e6216285"
      },
      "execution_count": 26,
      "outputs": [
        {
          "output_type": "stream",
          "name": "stdout",
          "text": [
            "Precision untuk penumpang selamat (1): 0.66\n",
            "Recall untuk penumpang selamat (1): 0.35\n"
          ]
        }
      ]
    },
    {
      "cell_type": "code",
      "source": [
        "# b. Confusion matrix\n",
        "cm = confusion_matrix(y_test, y_pred)\n",
        "\n",
        "# Confusion matrix format:\n",
        "# [[TN, FP],\n",
        "#  [FN, TP]]\n",
        "TN, FP, FN, TP = cm.ravel()\n",
        "\n",
        "print(f\"Jumlah penumpang yang diprediksi selamat: {TP + FP}\")\n",
        "print(f\"Jumlah penumpang yang benar-benar selamat (True Positives): {TP}\")"
      ],
      "metadata": {
        "colab": {
          "base_uri": "https://localhost:8080/"
        },
        "id": "yc27gA5acLz7",
        "outputId": "2df1f651-d614-4b56-cbda-d2b2ca353aa1"
      },
      "execution_count": 25,
      "outputs": [
        {
          "output_type": "stream",
          "name": "stdout",
          "text": [
            "Jumlah penumpang yang diprediksi selamat: 32\n",
            "Jumlah penumpang yang benar-benar selamat (True Positives): 21\n"
          ]
        }
      ]
    }
  ]
}